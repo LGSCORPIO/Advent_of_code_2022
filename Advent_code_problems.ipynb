{
 "cells": [
  {
   "cell_type": "code",
   "execution_count": 10,
   "id": "5af34c33",
   "metadata": {},
   "outputs": [],
   "source": [
    "import pandas as pd\n",
    "import numpy as np\n",
    "import string"
   ]
  },
  {
   "cell_type": "code",
   "execution_count": 6,
   "id": "7a01e56b",
   "metadata": {},
   "outputs": [
    {
     "name": "stdout",
     "output_type": "stream",
     "text": [
      "69883 207576\n"
     ]
    }
   ],
   "source": [
    "#Day 1\n",
    "data = pd.read_csv('inputs/day1_elves_calories.csv')\n",
    "#Create list of integer values per elf\n",
    "with open('inputs/day1_elves_calories.csv',mode='r', encoding='utf-8-sig') as f:\n",
    "    s = f.read() + '\\n'\n",
    "\n",
    "elves = s.split('\\n\\n')\n",
    "\n",
    "list_of_values = []\n",
    "for string in elves:\n",
    "    stripped = string.strip()\n",
    "    split_string = stripped.split('\\n')\n",
    "    integers = [int(x) for x in split_string]\n",
    "    list_of_values.append(sum(integers))\n",
    "\n",
    "#get max calories carried by one elf\n",
    "mxm = max(list_of_values)\n",
    "#get sum of calories for top three elf calory totals\n",
    "sort = sorted(list_of_values, reverse=True)\n",
    "top_three = sum(sort[0:3])\n",
    "print(mxm, top_three)"
   ]
  },
  {
   "cell_type": "code",
   "execution_count": 8,
   "id": "bb7b2b19",
   "metadata": {},
   "outputs": [
    {
     "name": "stdout",
     "output_type": "stream",
     "text": [
      "12156 10835\n"
     ]
    }
   ],
   "source": [
    "data = pd.read_csv('inputs/day_2_rock_paper_scissors.csv')\n",
    "\n",
    "#Question 1\n",
    "competitor_dict = {'A': 'X', 'B':'Y', 'C':'Z'}\n",
    "\n",
    "data = data.replace({'Competitor': competitor_dict})\n",
    "\n",
    "scoring_dict = {'X': 1, 'Y': 2, 'Z': 3}\n",
    "data['Myself_play_scores'] = data['Myself'].map(scoring_dict)\n",
    "\n",
    "score_for_plays = data['Myself_play_scores'].sum()\n",
    "\n",
    "def function(r):\n",
    "    if r['Competitor'] == 'X':\n",
    "        if r['Myself'] == 'X':\n",
    "            return 3\n",
    "        if r['Myself'] == 'Y':\n",
    "            return 6\n",
    "        if r['Myself'] == 'Z':\n",
    "            return 0\n",
    "    elif r['Competitor'] == 'Y':\n",
    "        if r['Myself'] == 'X':\n",
    "            return 0\n",
    "        if r['Myself'] == 'Y':\n",
    "            return 3\n",
    "        if r['Myself'] == 'Z':\n",
    "            return 6\n",
    "    elif r['Competitor'] == 'Z':\n",
    "        if r['Myself'] == 'X':\n",
    "            return 6\n",
    "        if r['Myself'] == 'Y':\n",
    "            return 0\n",
    "        if r['Myself'] == 'Z':\n",
    "            return 3\n",
    "data['myself_play_off_score'] = data.apply(lambda row : function(row), axis=1)\n",
    "\n",
    "score_for_comp = data['myself_play_off_score'].sum()\n",
    "q1_answer = score_for_comp + score_for_plays\n",
    "\n",
    "\n",
    "#question2\n",
    "\n",
    "data = pd.read_csv('inputs/day_2_rock_paper_scissors.csv')\n",
    "#A: ROCK B: PAPER C: SCISSORS\n",
    "def shape_decision(r):\n",
    "    if r['Competitor'] == 'A':\n",
    "        if r['Myself'] == 'X': #lose\n",
    "            return 'C'\n",
    "        if r['Myself'] == 'Y': #draw\n",
    "            return 'A'\n",
    "        if r['Myself'] == 'Z': #win\n",
    "            return 'B'\n",
    "    elif r['Competitor'] == 'B':\n",
    "        if r['Myself'] == 'X':\n",
    "            return 'A'\n",
    "        if r['Myself'] == 'Y':\n",
    "            return 'B'\n",
    "        if r['Myself'] == 'Z':\n",
    "            return 'C'\n",
    "    elif r['Competitor'] == 'C':\n",
    "        if r['Myself'] == 'X':\n",
    "            return 'B'\n",
    "        if r['Myself'] == 'Y':\n",
    "            return 'C'\n",
    "        if r['Myself'] == 'Z':\n",
    "            return 'A'\n",
    "data['own_play'] = data.apply(lambda row : shape_decision(row), axis=1)\n",
    "\n",
    "play_dict = {'X': 0, 'Y': 3, 'Z': 6}\n",
    "shape_dict = {'A':1, 'B': 2, 'C':3}\n",
    "data['Myself_play_scores'] = data['Myself'].apply(lambda x: play_dict[x])\n",
    "data['Myself_shape_scores'] = data['own_play'].apply(lambda x: shape_dict[x])\n",
    "\n",
    "\n",
    "\n",
    "q2_answer = data['Myself_play_scores'].sum() + data['Myself_shape_scores'].sum()\n",
    "\n",
    "\n",
    "print(q1_answer, q2_answer)"
   ]
  },
  {
   "cell_type": "code",
   "execution_count": 11,
   "id": "1a087141",
   "metadata": {},
   "outputs": [
    {
     "name": "stdout",
     "output_type": "stream",
     "text": [
      "7811 2639\n"
     ]
    }
   ],
   "source": [
    "#q1\n",
    "alphabet = list(string.ascii_lowercase) + list(string.ascii_uppercase)\n",
    "numbers = list(range(1,53))\n",
    "azAZ_map = dict(zip(alphabet, numbers))\n",
    "colname = ['rucksacks']\n",
    "data = pd.read_csv('inputs/day3_elves_rucksacks.csv', names=colname, header=None)\n",
    "\n",
    "\n",
    "def find_shared_letters_and_sum_value(row):\n",
    "    rucksack = list(row)\n",
    "    mid = int((len(rucksack)/2))\n",
    "    comp1 = rucksack[:mid]\n",
    "    comp2 = rucksack[mid:]\n",
    "    shared_letters = list(set(comp1).intersection(comp2))\n",
    "    values = sum([azAZ_map[x] for x in shared_letters])\n",
    "    return values\n",
    "\n",
    "\n",
    "data['answer'] = data['rucksacks'].apply(lambda row: find_shared_letters_and_sum_value(row))\n",
    "\n",
    "q1 = sum(data['answer'])\n",
    "\n",
    "#q2\n",
    "\n",
    "lis = data['rucksacks'].tolist()\n",
    "\n",
    "n = 3\n",
    "x = [lis[i:i + n] for i in range(0, len(lis), n)]\n",
    "val = 0\n",
    "for i in x:\n",
    "    common = set.intersection(*map(set, i))\n",
    "    sum_val = sum([azAZ_map[x] for x in common])\n",
    "    val += sum_val\n",
    "\n",
    "q2 = val\n",
    "\n",
    "print(q1, q2)\n",
    "\n"
   ]
  },
  {
   "cell_type": "code",
   "execution_count": 13,
   "id": "9a0ba710",
   "metadata": {},
   "outputs": [
    {
     "name": "stdout",
     "output_type": "stream",
     "text": [
      "560 839\n"
     ]
    }
   ],
   "source": [
    "#Day 4 In how many assignment pairs does one range fully contain the other?\n",
    "colname = ['values']\n",
    "data = pd.read_csv('inputs/day4_cleaning.csv', names=colname, header = None)\n",
    "data[['elf1', 'elf2']] = data['values'].str.split(\",\", expand=True)\n",
    "\n",
    "def contained(row):\n",
    "\n",
    "    elf1 = list(range(int(row['elf1'].split('-')[0]), (int(row['elf1'].split('-')[1])+1)))\n",
    "    elf2 = list(range(int(row['elf2'].split('-')[0]), (int(row['elf2'].split('-')[1])+1)))\n",
    "    if (all(x in elf1 for x in elf2)) or (all(x in elf2 for x in elf1)):\n",
    "        return 1\n",
    "    else:\n",
    "        return 0\n",
    "\n",
    "data['result'] = data.apply(lambda row: contained(row), axis=1)\n",
    "\n",
    "q1 = sum(data['result'])\n",
    "\n",
    "\n",
    "def overlap(row):\n",
    "\n",
    "    elf1 = list(range(int(row['elf1'].split('-')[0]), (int(row['elf1'].split('-')[1])+1)))\n",
    "    elf2 = list(range(int(row['elf2'].split('-')[0]), (int(row['elf2'].split('-')[1])+1)))\n",
    "    if (any(x in elf1 for x in elf2)) or (any(x in elf2 for x in elf1)):\n",
    "        return 1\n",
    "    else:\n",
    "        return 0\n",
    "\n",
    "data['result_q2'] = data.apply(lambda row: overlap(row), axis=1)\n",
    "\n",
    "q2 = sum(data['result_q2'])\n",
    "\n",
    "print(q1, q2)\n"
   ]
  },
  {
   "cell_type": "code",
   "execution_count": null,
   "id": "661c27ff",
   "metadata": {},
   "outputs": [],
   "source": []
  }
 ],
 "metadata": {
  "kernelspec": {
   "display_name": "Python 3 (ipykernel)",
   "language": "python",
   "name": "python3"
  },
  "language_info": {
   "codemirror_mode": {
    "name": "ipython",
    "version": 3
   },
   "file_extension": ".py",
   "mimetype": "text/x-python",
   "name": "python",
   "nbconvert_exporter": "python",
   "pygments_lexer": "ipython3",
   "version": "3.8.2"
  }
 },
 "nbformat": 4,
 "nbformat_minor": 5
}
